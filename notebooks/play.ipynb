{
 "cells": [
  {
   "cell_type": "code",
   "execution_count": 1,
   "id": "2beb0b5d",
   "metadata": {},
   "outputs": [
    {
     "name": "stderr",
     "output_type": "stream",
     "text": [
      "/home/mikolaj/.cache/pypoetry/virtualenvs/gpt2-from-scratch-j40tdloB-py3.10/lib/python3.10/site-packages/tqdm/auto.py:21: TqdmWarning: IProgress not found. Please update jupyter and ipywidgets. See https://ipywidgets.readthedocs.io/en/stable/user_install.html\n",
      "  from .autonotebook import tqdm as notebook_tqdm\n"
     ]
    }
   ],
   "source": [
    "from transformers import GPT2LMHeadModel"
   ]
  },
  {
   "cell_type": "code",
   "execution_count": 2,
   "id": "57d302fc",
   "metadata": {},
   "outputs": [],
   "source": [
    "import tiktoken"
   ]
  },
  {
   "cell_type": "code",
   "execution_count": 3,
   "id": "a2fa4c5b",
   "metadata": {},
   "outputs": [],
   "source": [
    "import torch\n",
    "enc = tiktoken.get_encoding(\"gpt2\")"
   ]
  },
  {
   "cell_type": "code",
   "execution_count": 4,
   "id": "c74bfe9b",
   "metadata": {},
   "outputs": [],
   "source": [
    "import sys\n",
    "import os\n",
    "\n",
    "module_path = os.path.abspath(os.path.join('..'))\n",
    "if module_path not in sys.path:\n",
    "    sys.path.append(module_path+\"\\\\gpt2_from_scratch\")\n"
   ]
  },
  {
   "cell_type": "code",
   "execution_count": 5,
   "id": "cfe38613",
   "metadata": {},
   "outputs": [],
   "source": [
    "from gpt2_from_scratch.GPT import GPT\n",
    "from gpt2_from_scratch.GPTConfig import GPTConfig"
   ]
  },
  {
   "cell_type": "code",
   "execution_count": 6,
   "id": "d8c72074",
   "metadata": {},
   "outputs": [
    {
     "name": "stderr",
     "output_type": "stream",
     "text": [
      "/tmp/ipykernel_6574/1205284559.py:4: FutureWarning: You are using `torch.load` with `weights_only=False` (the current default value), which uses the default pickle module implicitly. It is possible to construct malicious pickle data which will execute arbitrary code during unpickling (See https://github.com/pytorch/pytorch/blob/main/SECURITY.md#untrusted-models for more details). In a future release, the default value for `weights_only` will be flipped to `True`. This limits the functions that could be executed during unpickling. Arbitrary objects will no longer be allowed to be loaded via this mode unless they are explicitly allowlisted by the user via `torch.serialization.add_safe_globals`. We recommend you start setting `weights_only=True` for any use case where you don't have full control of the loaded file. Please open an issue on GitHub for any issues related to this experimental feature.\n",
      "  checkpoint = torch.load(\"/home/mikolaj/work/GPT2_from_scratch/gpt2_from_scratch/log/model_00100.pt\", map_location=\"cpu\")\n"
     ]
    },
    {
     "name": "stdout",
     "output_type": "stream",
     "text": [
      "sample 0: Hello, I am at the--The own in \"(F (p, are these in\n",
      "sample 1: Hello, I am� York from the \"� be of the \"M' it in to�\n",
      "sample 2: Hello, I am, the work to the use but their� was the the own,, the\n",
      "sample 3: Hello, I am in.\n",
      "This the same and their� \"The new from the new and\n",
      "sample 4: Hello, I am the child, for the National/For the�).\n",
      "H.--\n"
     ]
    }
   ],
   "source": [
    "from torch.nn import functional as F\n",
    "\n",
    "model = GPT(GPTConfig(vocab_size=50304))\n",
    "checkpoint = torch.load(\"/home/mikolaj/work/GPT2_from_scratch/gpt2_from_scratch/log/model_00100.pt\", map_location=\"cpu\")\n",
    "state_dict = checkpoint['model_state_dict']\n",
    "model.load_state_dict(state_dict)\n",
    "\n",
    "device = \"cuda\"\n",
    "model.to(device)\n",
    "\n",
    "max_length = 20\n",
    "num_return_seq = 5\n",
    "\n",
    "tokens = enc.encode(\"Hello, I am\")\n",
    "tokens = torch.tensor(tokens, dtype=torch.long)\n",
    "tokens = tokens.unsqueeze(0).repeat(num_return_seq, 1)\n",
    "xgen = tokens.to(device)\n",
    "sample_rng = torch.Generator(device=device)\n",
    "sample_rng.manual_seed(42)\n",
    "\n",
    "while xgen.size(1) < max_length:\n",
    "    with torch.no_grad():\n",
    "        logits, loss = model(xgen)\n",
    "        logits = logits[:, -1, :]\n",
    "        probs = F.softmax(logits, dim=-1)\n",
    "        topk_probs, topk_indices = torch.topk(probs, 50, dim=-1)\n",
    "        ix = torch.multinomial(topk_probs, 1, generator=sample_rng)\n",
    "        xcol = torch.gather(topk_indices, -1, ix)\n",
    "        xgen = torch.cat((xgen, xcol), dim=1)\n",
    "for i in range(num_return_seq):\n",
    "    tokens = xgen[i, :max_length].tolist()\n",
    "    decoded = enc.decode(tokens)\n",
    "    print(f\"sample {i}: {decoded}\")\n"
   ]
  },
  {
   "cell_type": "code",
   "execution_count": null,
   "id": "baf5b43d",
   "metadata": {},
   "outputs": [],
   "source": []
  }
 ],
 "metadata": {
  "kernelspec": {
   "display_name": "gpt2-from-scratch-py3.10",
   "language": "python",
   "name": "gpt2-from-scratch-py3.10"
  },
  "language_info": {
   "codemirror_mode": {
    "name": "ipython",
    "version": 3
   },
   "file_extension": ".py",
   "mimetype": "text/x-python",
   "name": "python",
   "nbconvert_exporter": "python",
   "pygments_lexer": "ipython3",
   "version": "3.10.12"
  }
 },
 "nbformat": 4,
 "nbformat_minor": 5
}
